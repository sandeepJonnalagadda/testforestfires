{
 "cells": [
  {
   "cell_type": "code",
   "execution_count": 4,
   "id": "a3e21768-161d-44d1-881b-15113d708884",
   "metadata": {},
   "outputs": [],
   "source": [
    "name=\"sandeep\""
   ]
  },
  {
   "cell_type": "code",
   "execution_count": 5,
   "id": "027f92ae-d85a-4c0e-98af-03a3507791d2",
   "metadata": {},
   "outputs": [
    {
     "name": "stdout",
     "output_type": "stream",
     "text": [
      "sandeep\n"
     ]
    }
   ],
   "source": [
    "print(name)"
   ]
  },
  {
   "cell_type": "code",
   "execution_count": 6,
   "id": "8be6bb39-5c74-4909-b06a-faa9d0f9106d",
   "metadata": {},
   "outputs": [],
   "source": [
    "import matplotlib.pyplot as plt"
   ]
  },
  {
   "cell_type": "code",
   "execution_count": null,
   "id": "b1484c45-7a81-4610-b849-0988fb9f3c78",
   "metadata": {},
   "outputs": [],
   "source": []
  },
  {
   "cell_type": "code",
   "execution_count": null,
   "id": "bef91ba3-6d42-401d-9351-1497ddd43f33",
   "metadata": {},
   "outputs": [],
   "source": []
  },
  {
   "cell_type": "code",
   "execution_count": null,
   "id": "44133530-8ab6-4ce7-b872-f3b2df2d862d",
   "metadata": {},
   "outputs": [],
   "source": []
  }
 ],
 "metadata": {
  "kernelspec": {
   "display_name": "Python 3 (ipykernel)",
   "language": "python",
   "name": "python3"
  },
  "language_info": {
   "codemirror_mode": {
    "name": "ipython",
    "version": 3
   },
   "file_extension": ".py",
   "mimetype": "text/x-python",
   "name": "python",
   "nbconvert_exporter": "python",
   "pygments_lexer": "ipython3",
   "version": "3.12.4"
  }
 },
 "nbformat": 4,
 "nbformat_minor": 5
}
