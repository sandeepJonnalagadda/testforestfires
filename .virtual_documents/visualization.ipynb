import matplotlib.pyplot as plt
import seaborn as sns
#for not getting graph as pop up as stay alive
%matplotlib inline 


yeild_apples=[0.895, 0.91 ,0.919 ,0.926 ,0.929 ,0.931]
plt.plot(yeild_apples)


yeild_apples=[0.895, 0.91 ,0.919 ,0.926 ,0.929 ,0.931]
#see difference after keeping semi colon; at end of the code
plt.plot(yeild_apples);



years=[2010,2011,2012,2013,2014,2015]
yeild_apples=[0.895, 0.91 ,0.919 ,0.926 ,0.929 ,0.931]
plt.plot(yeild_apples,years);


years=[2010,2011,2012,2013,2014,2015]
yeild_apples=[0.895, 0.91 ,0.919 ,0.926 ,0.929 ,0.931]
plt.plot(years,yeild_apples);
plt.xlabel('year')
plt.ylabel('yeild(tons per hectare)')


years=[2000,2001,2002,2003,2004,2005,2006]
apples=[0.895, 0.91 ,0.919 ,0.926 ,0.929 ,0.931,0.94]
oranges=[0.989,0.9,0.99,0.94,0.958,0.999,0.9]
plt.plot(years,apples)
plt.plot(years,oranges)
plt.xlabel('year')
plt.ylabel('yeild(tons per hectare)')


plt.plot(years,apples)
plt.plot(years,oranges)
plt.xlabel('year')
plt.ylabel('yeild(tons per hectare)')

plt.title('crop yeilds')
plt.legend(['APPLES','ORANGES']);


plt.plot(years,apples,marker="x")
plt.plot(years,oranges,marker="o")
plt.xlabel('year')
plt.ylabel('yeild(tons per hectare)')

plt.title('crop yeilds')
plt.legend(['APPLES','ORANGES']);












